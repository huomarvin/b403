{
 "cells": [
  {
   "cell_type": "markdown",
   "id": "465c003a-29cf-4cfe-a0c6-d36c04ae2b37",
   "metadata": {},
   "source": [
    "# 简单链\n",
    "* 按特定顺序执行多个操作。"
   ]
  },
  {
   "cell_type": "markdown",
   "id": "c759d27a-94f3-4141-945d-065f2095bffd",
   "metadata": {
    "jp-MarkdownHeadingCollapsed": true
   },
   "source": [
    "## 介绍\n",
    "* 链是一系列带有输入或输出数据的操作。\n",
    "* 自从 LCEL 出现以来，LangChain 更倾向于使用 LCEL 链而非传统（遗留）内置链，但这些链仍在维护并经常使用。"
   ]
  },
  {
   "cell_type": "markdown",
   "id": "5a2f9501-fa9e-4830-95e2-537dff951cf1",
   "metadata": {},
   "source": [
    "## LangChain 文档关于链\n",
    "* 请在[这里](https://python.langchain.com/v0.2/docs/how_to/sequence/)查阅 LCEL 关于链的文档页面。\n",
    "* 请在[这里](https://python.langchain.com/v0.1/docs/modules/chains/)查阅旧版关于链的文档页面。在此页面中，您可以看到主要内置旧版链的列表。"
   ]
  },
  {
   "cell_type": "markdown",
   "id": "be46161e-45e9-46d7-8214-bcbea10aff2e",
   "metadata": {},
   "source": [
    "## Setup"
   ]
  },
  {
   "cell_type": "markdown",
   "id": "871e0018-cba4-4959-881a-0a65093d202d",
   "metadata": {},
   "source": [
    "#### 在你的电脑上从 GitHub 仓库下载代码后\n",
    "在终端中：\n",
    "* cd 项目名称\n",
    "* pyenv local 3.11.4\n",
    "* poetry install\n",
    "* poetry shell"
   ]
  },
  {
   "cell_type": "markdown",
   "id": "58923013-1495-4d13-9c1c-36aaabd01cbe",
   "metadata": {},
   "source": [
    "#### 在 Jupyter 笔记本中打开笔记本\n",
    "在终端中：\n",
    "* jupyter lab\n",
    "\n",
    "进入笔记本的文件夹并打开正确的笔记本。"
   ]
  },
  {
   "cell_type": "markdown",
   "id": "af743328-1bc8-4b01-85fb-fcb21c6499c2",
   "metadata": {},
   "source": [
    "## 创建您的 .env 文件\n",
    "* 在 GitHub 仓库中，我们包含了一个名为 .env.example 的文件\n",
    "* 将该文件重命名为 .env 文件，这里是您将添加机密 API 密钥的地方。记得包括：\n",
    "* OPENAI_API_KEY=your_openai_api_key\n",
    "* LANGCHAIN_TRACING_V2=true\n",
    "* LANGCHAIN_ENDPOINT=https://api.smith.langchain.com\n",
    "* LANGCHAIN_API_KEY=your_langchain_api_key\n",
    "* LANGCHAIN_PROJECT=your_project_name"
   ]
  },
  {
   "cell_type": "markdown",
   "id": "da6d2f8a-9d7c-4241-b078-f6470d25c8ef",
   "metadata": {},
   "source": [
    "我们将把我们的LangSmith项目称为**001-simple-chain**。"
   ]
  },
  {
   "cell_type": "markdown",
   "id": "be98f20c-eb25-4ef9-b94e-151c8c02fa3d",
   "metadata": {},
   "source": [
    "## 追踪操作\n",
    "从现在开始，我们可以从 LangSmith 追踪此项目的操作 **和成本**：\n",
    "* [smith.langchain.com](https://smith.langchain.com)"
   ]
  },
  {
   "cell_type": "markdown",
   "id": "e3cdea43-eb87-45bf-a7a8-cbddbff7e309",
   "metadata": {},
   "source": [
    "## 连接到位于此笔记本同一目录中的 .env 文件"
   ]
  },
  {
   "cell_type": "code",
   "execution_count": 1,
   "id": "fecd39d0-e72e-4bc2-8a68-2fa4008ea365",
   "metadata": {},
   "outputs": [],
   "source": [
    "import os\n",
    "from dotenv import load_dotenv, find_dotenv\n",
    "_ = load_dotenv(find_dotenv())\n",
    "openai_api_key = os.environ[\"OPENAI_API_KEY\"]"
   ]
  },
  {
   "cell_type": "markdown",
   "id": "efbe4f83-d97e-4b96-a76d-a673e5ca9dac",
   "metadata": {},
   "source": [
    "## Simple Chain"
   ]
  },
  {
   "cell_type": "code",
   "execution_count": 2,
   "id": "6ae8595e-5c07-4b02-8a79-db55fd357527",
   "metadata": {},
   "outputs": [],
   "source": [
    "from langchain_openai import ChatOpenAI\n",
    "\n",
    "chatModel = ChatOpenAI(model=\"gpt-3.5-turbo-0125\")"
   ]
  },
  {
   "cell_type": "code",
   "execution_count": 10,
   "id": "f1e141a5-ba40-4531-81d4-6e23c085dc9b",
   "metadata": {},
   "outputs": [],
   "source": [
    "from langchain_core.output_parsers import StrOutputParser\n",
    "from langchain_core.prompts import ChatPromptTemplate\n",
    "\n",
    "prompt = ChatPromptTemplate.from_template(\"tell me a curious fact about {politician}\")\n",
    "\n",
    "chain = prompt | chatModel | StrOutputParser()"
   ]
  },
  {
   "cell_type": "markdown",
   "id": "d1387cd5-cd49-461d-85e8-395449724520",
   "metadata": {},
   "source": [
    "**StrOutputParser 的作用是什么？**\n",
    "   - `StrOutputParser` 是 LangChain 中的一个特定工具，旨在简化这些语言模型的输出。它将模型的复杂或结构化输出转换为纯文本（字符串）。这使得在应用程序中使用此输出变得更容易，比如将其显示给用户或进一步处理以便于其他用途。\n",
    "\n",
    "**StrOutputParser 的具体功能：**\n",
    "   - **对于 LLM 输出：** 如果语言模型生成的输出已经是文本形式，`StrOutputParser` 不会改变它；它只是将其原封不动地传递。\n",
    "   - **对于 ChatModel 输出：** 如果输出来自 ChatModel（专为对话设计的一种语言模型），`StrOutputParser` 会从结构化输出中提取主要内容，以确保最终呈现为纯文本。"
   ]
  },
  {
   "cell_type": "code",
   "execution_count": 11,
   "id": "cadcb2d2-69b0-424e-a81a-d2c1eaa0ceac",
   "metadata": {},
   "outputs": [
    {
     "data": {
      "text/plain": [
       "'One curious fact about JFK is that he was the first U.S. president to have been born in the 20th century. He was born on May 29, 1917, making him the first president born after the turn of the century.'"
      ]
     },
     "execution_count": 11,
     "metadata": {},
     "output_type": "execute_result"
    }
   ],
   "source": [
    "chain.invoke({\"politician\": \"JFK\"})"
   ]
  }
 ],
 "metadata": {
  "kernelspec": {
   "display_name": "Python 3 (ipykernel)",
   "language": "python",
   "name": "python3"
  },
  "language_info": {
   "codemirror_mode": {
    "name": "ipython",
    "version": 3
   },
   "file_extension": ".py",
   "mimetype": "text/x-python",
   "name": "python",
   "nbconvert_exporter": "python",
   "pygments_lexer": "ipython3",
   "version": "3.11.4"
  }
 },
 "nbformat": 4,
 "nbformat_minor": 5
}
